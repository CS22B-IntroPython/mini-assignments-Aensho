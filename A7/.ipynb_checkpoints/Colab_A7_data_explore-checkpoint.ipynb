{
 "cells": [
  {
   "cell_type": "markdown",
   "metadata": {
    "id": "XXueMou6e2fW"
   },
   "source": [
    "# Data Exploration with Pandas\n",
    "<table><tr><td>\n",
    "<img src=\"https://resizing.flixster.com/Grjhpv0wcwgi-uhfaC3QM8KFglY=/ems.cHJkLWVtcy1hc3NldHMvbW92aWVzLzdmOWE4MWFiLWVlOWMtNDA4Mi05OTA0LTRiNjMxNTEwMzk1MC5qcGc=\" height=300><a href=\"https://resizing.flixster.com/Grjhpv0wcwgi-uhfaC3QM8KFglY=/ems.cHJkLWVtcy1hc3NldHMvbW92aWVzLzdmOWE4MWFiLWVlOWMtNDA4Mi05OTA0LTRiNjMxNTEwMzk1MC5qcGc=\">source</a></td><td><img src=\"https://encrypted-tbn2.gstatic.com/images?q=tbn:ANd9GcRQCHfe9VV3K3Efxv5PYQ_6NYpB20WkKS1zW21UEUmhW1lalECnbwTH3nwQL8XprEMTUCtPeA\" height=300><a href=\"https://encrypted-tbn2.gstatic.com/images?q=tbn:ANd9GcRQCHfe9VV3K3Efxv5PYQ_6NYpB20WkKS1zW21UEUmhW1lalECnbwTH3nwQL8XprEMTUCtPeA\">source</a></td></tr></table>"
   ]
  },
  {
   "cell_type": "code",
   "execution_count": 2,
   "metadata": {
    "id": "hyL8ePRTe2fa"
   },
   "outputs": [],
   "source": [
    "# importing the package(s) we want to use\n",
    "import pandas as pd"
   ]
  },
  {
   "cell_type": "markdown",
   "metadata": {
    "id": "6PdpBU4Ce2fi"
   },
   "source": [
    "### Let's explore the movies data set more! ###\n",
    "We'll use the `pd.read_csv()` function to read the csv file into a DataFrame."
   ]
  },
  {
   "cell_type": "code",
   "execution_count": 4,
   "metadata": {
    "colab": {
     "base_uri": "https://localhost:8080/",
     "height": 206
    },
    "id": "HlU8VYjYe2fi",
    "outputId": "5e207edf-1124-4812-f69c-8ea64ac99a4f"
   },
   "outputs": [
    {
     "data": {
      "text/html": [
       "<div>\n",
       "<style scoped>\n",
       "    .dataframe tbody tr th:only-of-type {\n",
       "        vertical-align: middle;\n",
       "    }\n",
       "\n",
       "    .dataframe tbody tr th {\n",
       "        vertical-align: top;\n",
       "    }\n",
       "\n",
       "    .dataframe thead th {\n",
       "        text-align: right;\n",
       "    }\n",
       "</style>\n",
       "<table border=\"1\" class=\"dataframe\">\n",
       "  <thead>\n",
       "    <tr style=\"text-align: right;\">\n",
       "      <th></th>\n",
       "      <th>Title</th>\n",
       "      <th>Gross</th>\n",
       "      <th>Gross (Adjusted)</th>\n",
       "      <th>Year</th>\n",
       "    </tr>\n",
       "  </thead>\n",
       "  <tbody>\n",
       "    <tr>\n",
       "      <th>0</th>\n",
       "      <td>Gone with the Wind</td>\n",
       "      <td>200852579</td>\n",
       "      <td>1895421694</td>\n",
       "      <td>1939</td>\n",
       "    </tr>\n",
       "    <tr>\n",
       "      <th>1</th>\n",
       "      <td>Star Wars: Episode IV - A New Hope</td>\n",
       "      <td>460998507</td>\n",
       "      <td>1668979715</td>\n",
       "      <td>1977</td>\n",
       "    </tr>\n",
       "    <tr>\n",
       "      <th>2</th>\n",
       "      <td>The Sound of Music</td>\n",
       "      <td>159287539</td>\n",
       "      <td>1335086324</td>\n",
       "      <td>1965</td>\n",
       "    </tr>\n",
       "    <tr>\n",
       "      <th>3</th>\n",
       "      <td>E.T. the Extra-Terrestrial</td>\n",
       "      <td>435110554</td>\n",
       "      <td>1329174791</td>\n",
       "      <td>1982</td>\n",
       "    </tr>\n",
       "    <tr>\n",
       "      <th>4</th>\n",
       "      <td>Titanic</td>\n",
       "      <td>659363944</td>\n",
       "      <td>1270101626</td>\n",
       "      <td>1997</td>\n",
       "    </tr>\n",
       "  </tbody>\n",
       "</table>\n",
       "</div>"
      ],
      "text/plain": [
       "                                Title      Gross  Gross (Adjusted)  Year\n",
       "0                  Gone with the Wind  200852579        1895421694  1939\n",
       "1  Star Wars: Episode IV - A New Hope  460998507        1668979715  1977\n",
       "2                  The Sound of Music  159287539        1335086324  1965\n",
       "3          E.T. the Extra-Terrestrial  435110554        1329174791  1982\n",
       "4                             Titanic  659363944        1270101626  1997"
      ]
     },
     "execution_count": 4,
     "metadata": {},
     "output_type": "execute_result"
    }
   ],
   "source": [
    "csvFile = 'https://raw.githubusercontent.com/csbfx/advpy122-data/master/top_movies_2020.csv'\n",
    "\n",
    "movies = pd.read_csv(csvFile)\n",
    "movies.head()"
   ]
  },
  {
   "cell_type": "markdown",
   "metadata": {
    "id": "of1jJGGAJ6_G"
   },
   "source": [
    "### Initial data exploration"
   ]
  },
  {
   "cell_type": "markdown",
   "metadata": {
    "id": "3wyNMxsme2fj"
   },
   "source": [
    "We can examine the contents of the resultant DataFrame using the `head()` and `tail()` commands:"
   ]
  },
  {
   "cell_type": "code",
   "execution_count": 41,
   "metadata": {
    "id": "cp8cgjyse2fj"
   },
   "outputs": [
    {
     "data": {
      "text/html": [
       "<div>\n",
       "<style scoped>\n",
       "    .dataframe tbody tr th:only-of-type {\n",
       "        vertical-align: middle;\n",
       "    }\n",
       "\n",
       "    .dataframe tbody tr th {\n",
       "        vertical-align: top;\n",
       "    }\n",
       "\n",
       "    .dataframe thead th {\n",
       "        text-align: right;\n",
       "    }\n",
       "</style>\n",
       "<table border=\"1\" class=\"dataframe\">\n",
       "  <thead>\n",
       "    <tr style=\"text-align: right;\">\n",
       "      <th></th>\n",
       "      <th>Title</th>\n",
       "      <th>Gross</th>\n",
       "      <th>Gross (Adjusted)</th>\n",
       "      <th>Year</th>\n",
       "    </tr>\n",
       "  </thead>\n",
       "  <tbody>\n",
       "    <tr>\n",
       "      <th>0</th>\n",
       "      <td>Gone with the Wind</td>\n",
       "      <td>200852579</td>\n",
       "      <td>1895421694</td>\n",
       "      <td>1939</td>\n",
       "    </tr>\n",
       "    <tr>\n",
       "      <th>1</th>\n",
       "      <td>Star Wars: Episode IV - A New Hope</td>\n",
       "      <td>460998507</td>\n",
       "      <td>1668979715</td>\n",
       "      <td>1977</td>\n",
       "    </tr>\n",
       "    <tr>\n",
       "      <th>2</th>\n",
       "      <td>The Sound of Music</td>\n",
       "      <td>159287539</td>\n",
       "      <td>1335086324</td>\n",
       "      <td>1965</td>\n",
       "    </tr>\n",
       "  </tbody>\n",
       "</table>\n",
       "</div>"
      ],
      "text/plain": [
       "                                Title      Gross  Gross (Adjusted)  Year\n",
       "0                  Gone with the Wind  200852579        1895421694  1939\n",
       "1  Star Wars: Episode IV - A New Hope  460998507        1668979715  1977\n",
       "2                  The Sound of Music  159287539        1335086324  1965"
      ]
     },
     "execution_count": 41,
     "metadata": {},
     "output_type": "execute_result"
    }
   ],
   "source": [
    "### Take a look at the top 3 values of the file\n",
    "movies.head(3)"
   ]
  },
  {
   "cell_type": "code",
   "execution_count": 43,
   "metadata": {
    "id": "Op7hgmy7JwaU"
   },
   "outputs": [
    {
     "data": {
      "text/html": [
       "<div>\n",
       "<style scoped>\n",
       "    .dataframe tbody tr th:only-of-type {\n",
       "        vertical-align: middle;\n",
       "    }\n",
       "\n",
       "    .dataframe tbody tr th {\n",
       "        vertical-align: top;\n",
       "    }\n",
       "\n",
       "    .dataframe thead th {\n",
       "        text-align: right;\n",
       "    }\n",
       "</style>\n",
       "<table border=\"1\" class=\"dataframe\">\n",
       "  <thead>\n",
       "    <tr style=\"text-align: right;\">\n",
       "      <th></th>\n",
       "      <th>Title</th>\n",
       "      <th>Gross</th>\n",
       "      <th>Gross (Adjusted)</th>\n",
       "      <th>Year</th>\n",
       "    </tr>\n",
       "  </thead>\n",
       "  <tbody>\n",
       "    <tr>\n",
       "      <th>195</th>\n",
       "      <td>Patton</td>\n",
       "      <td>61749765</td>\n",
       "      <td>373287682</td>\n",
       "      <td>1970</td>\n",
       "    </tr>\n",
       "    <tr>\n",
       "      <th>196</th>\n",
       "      <td>Fatal Attraction</td>\n",
       "      <td>156645693</td>\n",
       "      <td>371808159</td>\n",
       "      <td>1987</td>\n",
       "    </tr>\n",
       "    <tr>\n",
       "      <th>197</th>\n",
       "      <td>Iron Man 2</td>\n",
       "      <td>312433331</td>\n",
       "      <td>371691971</td>\n",
       "      <td>2010</td>\n",
       "    </tr>\n",
       "    <tr>\n",
       "      <th>198</th>\n",
       "      <td>Zootopia</td>\n",
       "      <td>341268248</td>\n",
       "      <td>371109157</td>\n",
       "      <td>2016</td>\n",
       "    </tr>\n",
       "    <tr>\n",
       "      <th>199</th>\n",
       "      <td>Liar Liar</td>\n",
       "      <td>181410615</td>\n",
       "      <td>370330510</td>\n",
       "      <td>1997</td>\n",
       "    </tr>\n",
       "  </tbody>\n",
       "</table>\n",
       "</div>"
      ],
      "text/plain": [
       "                Title      Gross  Gross (Adjusted)  Year\n",
       "195            Patton   61749765         373287682  1970\n",
       "196  Fatal Attraction  156645693         371808159  1987\n",
       "197        Iron Man 2  312433331         371691971  2010\n",
       "198          Zootopia  341268248         371109157  2016\n",
       "199         Liar Liar  181410615         370330510  1997"
      ]
     },
     "execution_count": 43,
     "metadata": {},
     "output_type": "execute_result"
    }
   ],
   "source": [
    "### How about the last 5 values of a the file?\n",
    "movies.tail()"
   ]
  },
  {
   "cell_type": "markdown",
   "metadata": {
    "id": "L8uiEv0ue2fl"
   },
   "source": [
    "Use the info() method to get a quick description of the dataframe"
   ]
  },
  {
   "cell_type": "code",
   "execution_count": 45,
   "metadata": {
    "id": "rYu2xgUme2fl"
   },
   "outputs": [
    {
     "name": "stdout",
     "output_type": "stream",
     "text": [
      "<class 'pandas.core.frame.DataFrame'>\n",
      "RangeIndex: 200 entries, 0 to 199\n",
      "Data columns (total 4 columns):\n",
      " #   Column            Non-Null Count  Dtype \n",
      "---  ------            --------------  ----- \n",
      " 0   Title             200 non-null    object\n",
      " 1   Gross             200 non-null    int64 \n",
      " 2   Gross (Adjusted)  200 non-null    int64 \n",
      " 3   Year              200 non-null    int64 \n",
      "dtypes: int64(3), object(1)\n",
      "memory usage: 6.4+ KB\n"
     ]
    }
   ],
   "source": [
    "### Get a quick summary of the data using the info() method\n",
    "movies.info()"
   ]
  },
  {
   "cell_type": "markdown",
   "metadata": {
    "id": "AL-bvKhEZo6K"
   },
   "source": [
    "# Working to filter different elements"
   ]
  },
  {
   "cell_type": "markdown",
   "metadata": {
    "id": "VU4n-R0ypGwy"
   },
   "source": [
    "Using iloc and loc to extract specific rows and columns"
   ]
  },
  {
   "cell_type": "code",
   "execution_count": 53,
   "metadata": {
    "id": "ENqPweADZnlC"
   },
   "outputs": [
    {
     "data": {
      "text/plain": [
       "0    200852579\n",
       "1    460998507\n",
       "2    159287539\n",
       "3    435110554\n",
       "4    659363944\n",
       "5     65500000\n",
       "6    260758300\n",
       "7    111721910\n",
       "8    232906145\n",
       "9    184925486\n",
       "Name: Gross, dtype: int64"
      ]
     },
     "execution_count": 53,
     "metadata": {},
     "output_type": "execute_result"
    }
   ],
   "source": [
    "### Get the first 10 elements (movies) of the second column and convert it into a series with a name\n",
    "new_series = movies.iloc[:10,1]\n",
    "new_series"
   ]
  },
  {
   "cell_type": "code",
   "execution_count": 63,
   "metadata": {
    "id": "kRy9tINCEYoh"
   },
   "outputs": [
    {
     "data": {
      "text/plain": [
       "0                    Gone with the Wind\n",
       "1    Star Wars: Episode IV - A New Hope\n",
       "2                    The Sound of Music\n",
       "3            E.T. the Extra-Terrestrial\n",
       "4                               Titanic\n",
       "5                  The Ten Commandments\n",
       "6                                  Jaws\n",
       "7                        Doctor Zhivago\n",
       "8                          The Exorcist\n",
       "9       Snow White and the Seven Dwarfs\n",
       "Name: Title, dtype: string"
      ]
     },
     "execution_count": 63,
     "metadata": {},
     "output_type": "execute_result"
    }
   ],
   "source": [
    "### Get the names of the first 10 movies and convert it into a series and give it type string\n",
    "movie_names = movies.iloc[:10,0].astype('string')\n",
    "movie_names"
   ]
  },
  {
   "cell_type": "code",
   "execution_count": 87,
   "metadata": {
    "id": "i2B4YKO0F1aH"
   },
   "outputs": [
    {
     "data": {
      "text/html": [
       "<div>\n",
       "<style scoped>\n",
       "    .dataframe tbody tr th:only-of-type {\n",
       "        vertical-align: middle;\n",
       "    }\n",
       "\n",
       "    .dataframe tbody tr th {\n",
       "        vertical-align: top;\n",
       "    }\n",
       "\n",
       "    .dataframe thead th {\n",
       "        text-align: right;\n",
       "    }\n",
       "</style>\n",
       "<table border=\"1\" class=\"dataframe\">\n",
       "  <thead>\n",
       "    <tr style=\"text-align: right;\">\n",
       "      <th></th>\n",
       "      <th>a</th>\n",
       "      <th>b</th>\n",
       "      <th>c</th>\n",
       "    </tr>\n",
       "  </thead>\n",
       "  <tbody>\n",
       "    <tr>\n",
       "      <th>195</th>\n",
       "      <td>Patton</td>\n",
       "      <td>61749765</td>\n",
       "      <td>373287682</td>\n",
       "    </tr>\n",
       "    <tr>\n",
       "      <th>196</th>\n",
       "      <td>Fatal Attraction</td>\n",
       "      <td>156645693</td>\n",
       "      <td>371808159</td>\n",
       "    </tr>\n",
       "    <tr>\n",
       "      <th>197</th>\n",
       "      <td>Iron Man 2</td>\n",
       "      <td>312433331</td>\n",
       "      <td>371691971</td>\n",
       "    </tr>\n",
       "    <tr>\n",
       "      <th>198</th>\n",
       "      <td>Zootopia</td>\n",
       "      <td>341268248</td>\n",
       "      <td>371109157</td>\n",
       "    </tr>\n",
       "    <tr>\n",
       "      <th>199</th>\n",
       "      <td>Liar Liar</td>\n",
       "      <td>181410615</td>\n",
       "      <td>370330510</td>\n",
       "    </tr>\n",
       "  </tbody>\n",
       "</table>\n",
       "</div>"
      ],
      "text/plain": [
       "                    a          b          c\n",
       "195            Patton   61749765  373287682\n",
       "196  Fatal Attraction  156645693  371808159\n",
       "197        Iron Man 2  312433331  371691971\n",
       "198          Zootopia  341268248  371109157\n",
       "199         Liar Liar  181410615  370330510"
      ]
     },
     "execution_count": 87,
     "metadata": {},
     "output_type": "execute_result"
    }
   ],
   "source": [
    "### Create a smaller dataframe with last 20 elements and all columns except 'Year'. Give the columns new custom names (your choice).\n",
    "smaller_dataframe = movies.drop('Year', axis=1).tail(20)\n",
    "smaller_dataframe.columns = ['a', 'b', 'c']\n",
    "smaller_dataframe.tail()"
   ]
  },
  {
   "cell_type": "markdown",
   "metadata": {
    "id": "QK9I_3ripSwv"
   },
   "source": [
    "Subsetting the dataframe based on conditions"
   ]
  },
  {
   "cell_type": "code",
   "execution_count": 85,
   "metadata": {
    "id": "TdIg-TSgoqzL"
   },
   "outputs": [
    {
     "data": {
      "text/html": [
       "<div>\n",
       "<style scoped>\n",
       "    .dataframe tbody tr th:only-of-type {\n",
       "        vertical-align: middle;\n",
       "    }\n",
       "\n",
       "    .dataframe tbody tr th {\n",
       "        vertical-align: top;\n",
       "    }\n",
       "\n",
       "    .dataframe thead th {\n",
       "        text-align: right;\n",
       "    }\n",
       "</style>\n",
       "<table border=\"1\" class=\"dataframe\">\n",
       "  <thead>\n",
       "    <tr style=\"text-align: right;\">\n",
       "      <th></th>\n",
       "      <th>Title</th>\n",
       "      <th>Gross</th>\n",
       "      <th>Gross (Adjusted)</th>\n",
       "      <th>Year</th>\n",
       "    </tr>\n",
       "  </thead>\n",
       "  <tbody>\n",
       "    <tr>\n",
       "      <th>14</th>\n",
       "      <td>Avatar</td>\n",
       "      <td>760507625</td>\n",
       "      <td>911790952</td>\n",
       "      <td>2009</td>\n",
       "    </tr>\n",
       "    <tr>\n",
       "      <th>32</th>\n",
       "      <td>The Dark Knight</td>\n",
       "      <td>535234033</td>\n",
       "      <td>698121220</td>\n",
       "      <td>2008</td>\n",
       "    </tr>\n",
       "    <tr>\n",
       "      <th>37</th>\n",
       "      <td>Shrek 2</td>\n",
       "      <td>441226247</td>\n",
       "      <td>665746933</td>\n",
       "      <td>2004</td>\n",
       "    </tr>\n",
       "    <tr>\n",
       "      <th>38</th>\n",
       "      <td>Spider-Man</td>\n",
       "      <td>407022860</td>\n",
       "      <td>661768431</td>\n",
       "      <td>2002</td>\n",
       "    </tr>\n",
       "    <tr>\n",
       "      <th>52</th>\n",
       "      <td>Pirates of the Caribbean: Dead Man's Chest</td>\n",
       "      <td>423315812</td>\n",
       "      <td>605568108</td>\n",
       "      <td>2006</td>\n",
       "    </tr>\n",
       "  </tbody>\n",
       "</table>\n",
       "</div>"
      ],
      "text/plain": [
       "                                         Title      Gross  Gross (Adjusted)  \\\n",
       "14                                      Avatar  760507625         911790952   \n",
       "32                             The Dark Knight  535234033         698121220   \n",
       "37                                     Shrek 2  441226247         665746933   \n",
       "38                                  Spider-Man  407022860         661768431   \n",
       "52  Pirates of the Caribbean: Dead Man's Chest  423315812         605568108   \n",
       "\n",
       "    Year  \n",
       "14  2009  \n",
       "32  2008  \n",
       "37  2004  \n",
       "38  2002  \n",
       "52  2006  "
      ]
     },
     "execution_count": 85,
     "metadata": {},
     "output_type": "execute_result"
    }
   ],
   "source": [
    "### Create a smaller dataframe with movies made in the year 2000s\n",
    "new_smaller_dataframe = movies[(movies['Year'] >= 2000) & (movies['Year'] <=2009)]\n",
    "new_smaller_dataframe.head()"
   ]
  },
  {
   "cell_type": "code",
   "execution_count": 101,
   "metadata": {
    "id": "Tf3HYCn5JDB8"
   },
   "outputs": [
    {
     "name": "stdout",
     "output_type": "stream",
     "text": [
      "2 movies gross over 1,500,000,000\n"
     ]
    }
   ],
   "source": [
    "### How many movies Gross (use 'Gross (Adjusted)') over 1,500,000,000?\n",
    "high_gross_movies = movies[(movies[\"Gross (Adjusted)\"] > 1500000000)]\n",
    "print(f'{len(high_gross_movies)} movies gross over 1,500,000,000')"
   ]
  },
  {
   "cell_type": "markdown",
   "metadata": {
    "id": "dg7NUNTCpbSU"
   },
   "source": [
    "Customizing the dataframe"
   ]
  },
  {
   "cell_type": "code",
   "execution_count": 105,
   "metadata": {
    "id": "jLeVnvOtplcU"
   },
   "outputs": [],
   "source": [
    "### Use DataFrame.columns to change the column name to 'Movie','Gross', 'Gross_adj', and 'Year'\n",
    "movies.columns = [\"Movie\", \"Gross\", \"Gross_adj\", \"Year\"]"
   ]
  },
  {
   "cell_type": "code",
   "execution_count": 111,
   "metadata": {
    "id": "GOrFVLT4IgBH"
   },
   "outputs": [
    {
     "data": {
      "text/html": [
       "<div>\n",
       "<style scoped>\n",
       "    .dataframe tbody tr th:only-of-type {\n",
       "        vertical-align: middle;\n",
       "    }\n",
       "\n",
       "    .dataframe tbody tr th {\n",
       "        vertical-align: top;\n",
       "    }\n",
       "\n",
       "    .dataframe thead th {\n",
       "        text-align: right;\n",
       "    }\n",
       "</style>\n",
       "<table border=\"1\" class=\"dataframe\">\n",
       "  <thead>\n",
       "    <tr style=\"text-align: right;\">\n",
       "      <th></th>\n",
       "      <th>Gross</th>\n",
       "      <th>Gross_adj</th>\n",
       "      <th>Year</th>\n",
       "    </tr>\n",
       "    <tr>\n",
       "      <th>Movie</th>\n",
       "      <th></th>\n",
       "      <th></th>\n",
       "      <th></th>\n",
       "    </tr>\n",
       "  </thead>\n",
       "  <tbody>\n",
       "    <tr>\n",
       "      <th>Gone with the Wind</th>\n",
       "      <td>200852579</td>\n",
       "      <td>1895421694</td>\n",
       "      <td>1939</td>\n",
       "    </tr>\n",
       "    <tr>\n",
       "      <th>Star Wars: Episode IV - A New Hope</th>\n",
       "      <td>460998507</td>\n",
       "      <td>1668979715</td>\n",
       "      <td>1977</td>\n",
       "    </tr>\n",
       "    <tr>\n",
       "      <th>The Sound of Music</th>\n",
       "      <td>159287539</td>\n",
       "      <td>1335086324</td>\n",
       "      <td>1965</td>\n",
       "    </tr>\n",
       "    <tr>\n",
       "      <th>E.T. the Extra-Terrestrial</th>\n",
       "      <td>435110554</td>\n",
       "      <td>1329174791</td>\n",
       "      <td>1982</td>\n",
       "    </tr>\n",
       "    <tr>\n",
       "      <th>Titanic</th>\n",
       "      <td>659363944</td>\n",
       "      <td>1270101626</td>\n",
       "      <td>1997</td>\n",
       "    </tr>\n",
       "    <tr>\n",
       "      <th>...</th>\n",
       "      <td>...</td>\n",
       "      <td>...</td>\n",
       "      <td>...</td>\n",
       "    </tr>\n",
       "    <tr>\n",
       "      <th>Patton</th>\n",
       "      <td>61749765</td>\n",
       "      <td>373287682</td>\n",
       "      <td>1970</td>\n",
       "    </tr>\n",
       "    <tr>\n",
       "      <th>Fatal Attraction</th>\n",
       "      <td>156645693</td>\n",
       "      <td>371808159</td>\n",
       "      <td>1987</td>\n",
       "    </tr>\n",
       "    <tr>\n",
       "      <th>Iron Man 2</th>\n",
       "      <td>312433331</td>\n",
       "      <td>371691971</td>\n",
       "      <td>2010</td>\n",
       "    </tr>\n",
       "    <tr>\n",
       "      <th>Zootopia</th>\n",
       "      <td>341268248</td>\n",
       "      <td>371109157</td>\n",
       "      <td>2016</td>\n",
       "    </tr>\n",
       "    <tr>\n",
       "      <th>Liar Liar</th>\n",
       "      <td>181410615</td>\n",
       "      <td>370330510</td>\n",
       "      <td>1997</td>\n",
       "    </tr>\n",
       "  </tbody>\n",
       "</table>\n",
       "<p>200 rows × 3 columns</p>\n",
       "</div>"
      ],
      "text/plain": [
       "                                        Gross   Gross_adj  Year\n",
       "Movie                                                          \n",
       "Gone with the Wind                  200852579  1895421694  1939\n",
       "Star Wars: Episode IV - A New Hope  460998507  1668979715  1977\n",
       "The Sound of Music                  159287539  1335086324  1965\n",
       "E.T. the Extra-Terrestrial          435110554  1329174791  1982\n",
       "Titanic                             659363944  1270101626  1997\n",
       "...                                       ...         ...   ...\n",
       "Patton                               61749765   373287682  1970\n",
       "Fatal Attraction                    156645693   371808159  1987\n",
       "Iron Man 2                          312433331   371691971  2010\n",
       "Zootopia                            341268248   371109157  2016\n",
       "Liar Liar                           181410615   370330510  1997\n",
       "\n",
       "[200 rows x 3 columns]"
      ]
     },
     "execution_count": 111,
     "metadata": {},
     "output_type": "execute_result"
    }
   ],
   "source": [
    "### Set the 'Movies' column as the index\n",
    "movies.set_index(\"Movie\")"
   ]
  },
  {
   "cell_type": "markdown",
   "metadata": {
    "id": "qwl2u9Bppmn1"
   },
   "source": [
    "Getting some statistic about the data"
   ]
  },
  {
   "cell_type": "code",
   "execution_count": 113,
   "metadata": {
    "id": "00o1Bumept8i"
   },
   "outputs": [
    {
     "data": {
      "text/plain": [
       "count    2.000000e+02\n",
       "mean     2.564920e+08\n",
       "std      1.705675e+08\n",
       "min      9.183673e+06\n",
       "25%      1.169264e+08\n",
       "50%      2.341963e+08\n",
       "75%      3.633033e+08\n",
       "max      9.366622e+08\n",
       "Name: Gross, dtype: float64"
      ]
     },
     "execution_count": 113,
     "metadata": {},
     "output_type": "execute_result"
    }
   ],
   "source": [
    "### Get some statistical information about the 'Gross' column\n",
    "movies[\"Gross\"].describe()"
   ]
  },
  {
   "cell_type": "code",
   "execution_count": 125,
   "metadata": {
    "id": "46hKwDutp0yD"
   },
   "outputs": [
    {
     "data": {
      "text/plain": [
       "533060043.13793105"
      ]
     },
     "execution_count": 125,
     "metadata": {},
     "output_type": "execute_result"
    }
   ],
   "source": [
    "### What is the average 'Gross (Adjusted)' value for Movies from the 1990s?\n",
    "movies_1990s = movies[(movies[\"Year\"] >= 1990) & (movies[\"Year\"] <=1999)]\n",
    "movies_1990s[\"Gross_adj\"].mean()"
   ]
  },
  {
   "cell_type": "code",
   "execution_count": 141,
   "metadata": {
    "id": "eg4AevDxF0_T"
   },
   "outputs": [
    {
     "name": "stdout",
     "output_type": "stream",
     "text": [
      " the std dev of adjusted gross for all movies is 227797683.45\n",
      " the std dev of adjusted gross for movies from the 90s is 203516635.96\n"
     ]
    }
   ],
   "source": [
    "### What is the standard deviation of 'Gross (Adjusted)'?\n",
    "print(f' the std dev of adjusted gross for all movies is {round(movies[\"Gross_adj\"].std(),2)}')\n",
    "print(f' the std dev of adjusted gross for movies from the 90s is {round(movies_1990s[\"Gross_adj\"].std(), 2)}')"
   ]
  },
  {
   "cell_type": "code",
   "execution_count": null,
   "metadata": {},
   "outputs": [],
   "source": []
  }
 ],
 "metadata": {
  "colab": {
   "provenance": []
  },
  "hide_input": false,
  "kernelspec": {
   "display_name": "Python [conda env:base] *",
   "language": "python",
   "name": "conda-base-py"
  },
  "language_info": {
   "codemirror_mode": {
    "name": "ipython",
    "version": 3
   },
   "file_extension": ".py",
   "mimetype": "text/x-python",
   "name": "python",
   "nbconvert_exporter": "python",
   "pygments_lexer": "ipython3",
   "version": "3.12.7"
  },
  "toc": {
   "base_numbering": 1,
   "nav_menu": {},
   "number_sections": true,
   "sideBar": true,
   "skip_h1_title": false,
   "title_cell": "Table of Contents",
   "title_sidebar": "Contents",
   "toc_cell": false,
   "toc_position": {},
   "toc_section_display": true,
   "toc_window_display": false
  }
 },
 "nbformat": 4,
 "nbformat_minor": 4
}
