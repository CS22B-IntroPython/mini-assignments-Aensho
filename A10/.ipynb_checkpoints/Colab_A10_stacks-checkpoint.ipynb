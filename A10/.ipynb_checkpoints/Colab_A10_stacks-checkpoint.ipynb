{
 "cells": [
  {
   "cell_type": "markdown",
   "metadata": {
    "id": "cP32wAV3Yi-4"
   },
   "source": [
    "##**Stack Questions**"
   ]
  },
  {
   "cell_type": "markdown",
   "metadata": {
    "id": "KqdNjm1oY_ss"
   },
   "source": [
    "## Question 1: Write a function to sort a stack."
   ]
  },
  {
   "cell_type": "code",
   "execution_count": 3,
   "metadata": {
    "id": "mb9K46p3Ym0N"
   },
   "outputs": [
    {
     "name": "stdout",
     "output_type": "stream",
     "text": [
      "[3, 23, 31, 34, 92, 98]\n"
     ]
    }
   ],
   "source": [
    "def sort_stack(stack):\n",
    "  # Your code here\n",
    "    stack.sort()\n",
    "    return stack\n",
    "\n",
    "stack = [34, 3, 31, 98, 92, 23]\n",
    "print(sort_stack(stack))"
   ]
  },
  {
   "cell_type": "markdown",
   "metadata": {
    "id": "jFxb6ss_Whwl"
   },
   "source": [
    "## Question 2: Depict the following image as a list.\n",
    "\n",
    "<img src=\"https://miro.medium.com/max/1050/1*XifPIMxbamGKhz5UAEdz2w.png\">\n",
    "\n",
    "#### Queue\n",
    "1. Add the number 9 to the list.\n",
    "2. Remove the first number (7) from the list.\n",
    "\n",
    "#### Stack\n",
    "3. Add the number 4 to the same list.\n",
    "4. Remove the last number added (4) from the list."
   ]
  },
  {
   "cell_type": "code",
   "execution_count": 11,
   "metadata": {
    "id": "XOm7YLTEWhwm"
   },
   "outputs": [
    {
     "name": "stdout",
     "output_type": "stream",
     "text": [
      "[7, 3, 1, 6, 8, 9]\n",
      "[3, 1, 6, 8, 9]\n",
      "[3, 1, 6, 8, 9, 4]\n",
      "[3, 1, 6, 8, 9]\n"
     ]
    }
   ],
   "source": [
    "#Your Answer:\n",
    "\n",
    "#0.2.0.1\n",
    "list = [7, 3, 1, 6, 8]\n",
    "list.append(9)\n",
    "print(list)\n",
    "list.pop(0)\n",
    "print(list)\n",
    "\n",
    "#0.2.0.2\n",
    "list.append(4)\n",
    "print(list)\n",
    "list.pop()\n",
    "print(list)"
   ]
  },
  {
   "cell_type": "markdown",
   "metadata": {
    "id": "tQ3kgHVtWhwn"
   },
   "source": [
    "#### Question 3: Nodes\n",
    "\n",
    "<img src=\"https://encrypted-tbn0.gstatic.com/images?q=tbn:ANd9GcQW8-twGk0hCILE-muHBnG93hZJh2Qvgs7pVA&s\">\n",
    "\n",
    "1. Use a data structure of your choice to denote the different nodes.\n",
    "\n",
    "2. Create a function that sums all of the \"children\". Test with the node 10 (Expected answer is 37).\n"
   ]
  },
  {
   "cell_type": "code",
   "execution_count": 71,
   "metadata": {
    "id": "UU0rjzjXWhwn"
   },
   "outputs": [],
   "source": [
    "#Your Answer:\n",
    "tree = {8:[3, 10],\n",
    "        3:[1, 6],\n",
    "        6:[4,7],\n",
    "        10:[14],\n",
    "        14:[13],}\n",
    "'''\n",
    "def sum_children(node, tree):\n",
    "    sum = node\n",
    "    for child in tree[node]:\n",
    "        sum = sum + child\n",
    "        if child in tree:\n",
    "            for descendant in tree[child]:\n",
    "                sum = sum + descendant\n",
    "    return sum\n",
    "'''\n",
    "\n",
    "def sum_children(node, tree):\n",
    "    children = []\n",
    "    stack = [node]\n",
    "    while len(stack) != 0:\n",
    "        hold = stack.pop()\n",
    "        current_children = tree.get(hold, [])\n",
    "        stack.extend(current_children)\n",
    "        children.append(hold)\n",
    "    children_sum = sum(children)\n",
    "    return children_sum"
   ]
  },
  {
   "cell_type": "code",
   "execution_count": 73,
   "metadata": {},
   "outputs": [
    {
     "data": {
      "text/plain": [
       "37"
      ]
     },
     "execution_count": 73,
     "metadata": {},
     "output_type": "execute_result"
    }
   ],
   "source": [
    "sum_children(10, tree)"
   ]
  },
  {
   "cell_type": "code",
   "execution_count": null,
   "metadata": {},
   "outputs": [],
   "source": []
  }
 ],
 "metadata": {
  "colab": {
   "provenance": []
  },
  "hide_input": false,
  "kernelspec": {
   "display_name": "Python [conda env:base] *",
   "language": "python",
   "name": "conda-base-py"
  },
  "language_info": {
   "codemirror_mode": {
    "name": "ipython",
    "version": 3
   },
   "file_extension": ".py",
   "mimetype": "text/x-python",
   "name": "python",
   "nbconvert_exporter": "python",
   "pygments_lexer": "ipython3",
   "version": "3.12.7"
  },
  "toc": {
   "base_numbering": 1,
   "nav_menu": {},
   "number_sections": true,
   "sideBar": true,
   "skip_h1_title": false,
   "title_cell": "Table of Contents",
   "title_sidebar": "Contents",
   "toc_cell": false,
   "toc_position": {},
   "toc_section_display": true,
   "toc_window_display": false
  }
 },
 "nbformat": 4,
 "nbformat_minor": 4
}
