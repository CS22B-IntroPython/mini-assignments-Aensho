{
 "cells": [
  {
   "cell_type": "markdown",
   "metadata": {
    "id": "XXueMou6e2fW"
   },
   "source": [
    "# Data Visualization exercise"
   ]
  },
  {
   "cell_type": "code",
   "execution_count": 21,
   "metadata": {
    "id": "hyL8ePRTe2fa"
   },
   "outputs": [],
   "source": [
    "# importing the package(s) we want to use\n",
    "import pandas as pd\n",
    "import seaborn as sns\n",
    "import matplotlib.pyplot as plt\n",
    "%matplotlib inline"
   ]
  },
  {
   "cell_type": "code",
   "execution_count": 22,
   "metadata": {
    "id": "QXI7GiG3RA4e"
   },
   "outputs": [],
   "source": [
    "### The input file is tab-delimited\n",
    "tsv_Filepath = \"https://raw.githubusercontent.com/csbfx/advpy122-data/master/euk.tsv\"\n",
    "# we can specify the delimiter by using the sep keyword argument\n",
    "euk = pd.read_csv(tsv_Filepath, sep='\\t')"
   ]
  },
  {
   "cell_type": "code",
   "execution_count": 23,
   "metadata": {
    "colab": {
     "base_uri": "https://localhost:8080/",
     "height": 206
    },
    "id": "jt0bxDd-ROGR",
    "outputId": "d471f97c-273f-4e0c-f14f-8a070a6ff6e3"
   },
   "outputs": [
    {
     "data": {
      "text/html": [
       "<div>\n",
       "<style scoped>\n",
       "    .dataframe tbody tr th:only-of-type {\n",
       "        vertical-align: middle;\n",
       "    }\n",
       "\n",
       "    .dataframe tbody tr th {\n",
       "        vertical-align: top;\n",
       "    }\n",
       "\n",
       "    .dataframe thead th {\n",
       "        text-align: right;\n",
       "    }\n",
       "</style>\n",
       "<table border=\"1\" class=\"dataframe\">\n",
       "  <thead>\n",
       "    <tr style=\"text-align: right;\">\n",
       "      <th></th>\n",
       "      <th>Species</th>\n",
       "      <th>Kingdom</th>\n",
       "      <th>Class</th>\n",
       "      <th>Size (Mb)</th>\n",
       "      <th>GC%</th>\n",
       "      <th>Number of genes</th>\n",
       "      <th>Number of proteins</th>\n",
       "      <th>Publication year</th>\n",
       "      <th>Assembly status</th>\n",
       "    </tr>\n",
       "  </thead>\n",
       "  <tbody>\n",
       "    <tr>\n",
       "      <th>0</th>\n",
       "      <td>Emiliania huxleyi CCMP1516</td>\n",
       "      <td>Protists</td>\n",
       "      <td>Other Protists</td>\n",
       "      <td>167.676</td>\n",
       "      <td>64.5</td>\n",
       "      <td>38549</td>\n",
       "      <td>38554</td>\n",
       "      <td>2013</td>\n",
       "      <td>Scaffold</td>\n",
       "    </tr>\n",
       "    <tr>\n",
       "      <th>1</th>\n",
       "      <td>Arabidopsis thaliana</td>\n",
       "      <td>Plants</td>\n",
       "      <td>Land Plants</td>\n",
       "      <td>119.669</td>\n",
       "      <td>36.0529</td>\n",
       "      <td>38311</td>\n",
       "      <td>48265</td>\n",
       "      <td>2001</td>\n",
       "      <td>Chromosome</td>\n",
       "    </tr>\n",
       "    <tr>\n",
       "      <th>2</th>\n",
       "      <td>Glycine max</td>\n",
       "      <td>Plants</td>\n",
       "      <td>Land Plants</td>\n",
       "      <td>979.046</td>\n",
       "      <td>35.1153</td>\n",
       "      <td>59847</td>\n",
       "      <td>71219</td>\n",
       "      <td>2010</td>\n",
       "      <td>Chromosome</td>\n",
       "    </tr>\n",
       "    <tr>\n",
       "      <th>3</th>\n",
       "      <td>Medicago truncatula</td>\n",
       "      <td>Plants</td>\n",
       "      <td>Land Plants</td>\n",
       "      <td>412.924</td>\n",
       "      <td>34.047</td>\n",
       "      <td>37603</td>\n",
       "      <td>41939</td>\n",
       "      <td>2011</td>\n",
       "      <td>Chromosome</td>\n",
       "    </tr>\n",
       "    <tr>\n",
       "      <th>4</th>\n",
       "      <td>Solanum lycopersicum</td>\n",
       "      <td>Plants</td>\n",
       "      <td>Land Plants</td>\n",
       "      <td>828.349</td>\n",
       "      <td>35.6991</td>\n",
       "      <td>31200</td>\n",
       "      <td>37660</td>\n",
       "      <td>2010</td>\n",
       "      <td>Chromosome</td>\n",
       "    </tr>\n",
       "  </tbody>\n",
       "</table>\n",
       "</div>"
      ],
      "text/plain": [
       "                      Species   Kingdom           Class  Size (Mb)      GC%  \\\n",
       "0  Emiliania huxleyi CCMP1516  Protists  Other Protists    167.676     64.5   \n",
       "1        Arabidopsis thaliana    Plants     Land Plants    119.669  36.0529   \n",
       "2                 Glycine max    Plants     Land Plants    979.046  35.1153   \n",
       "3         Medicago truncatula    Plants     Land Plants    412.924   34.047   \n",
       "4        Solanum lycopersicum    Plants     Land Plants    828.349  35.6991   \n",
       "\n",
       "  Number of genes Number of proteins  Publication year Assembly status  \n",
       "0           38549              38554              2013        Scaffold  \n",
       "1           38311              48265              2001      Chromosome  \n",
       "2           59847              71219              2010      Chromosome  \n",
       "3           37603              41939              2011      Chromosome  \n",
       "4           31200              37660              2010      Chromosome  "
      ]
     },
     "execution_count": 23,
     "metadata": {},
     "output_type": "execute_result"
    }
   ],
   "source": [
    "### Using .head() and .tail() to see data content\n",
    "euk.head()"
   ]
  },
  {
   "cell_type": "code",
   "execution_count": 37,
   "metadata": {
    "id": "-GKOt3-LRT7_"
   },
   "outputs": [
    {
     "name": "stdout",
     "output_type": "stream",
     "text": [
      "<class 'pandas.core.frame.DataFrame'>\n",
      "RangeIndex: 8302 entries, 0 to 8301\n",
      "Data columns (total 9 columns):\n",
      " #   Column              Non-Null Count  Dtype  \n",
      "---  ------              --------------  -----  \n",
      " 0   Species             8302 non-null   object \n",
      " 1   Kingdom             8302 non-null   object \n",
      " 2   Class               8302 non-null   object \n",
      " 3   Size (Mb)           8302 non-null   float64\n",
      " 4   GC%                 8302 non-null   object \n",
      " 5   Number of genes     8302 non-null   object \n",
      " 6   Number of proteins  8302 non-null   object \n",
      " 7   Publication year    8302 non-null   int64  \n",
      " 8   Assembly status     8302 non-null   object \n",
      "dtypes: float64(1), int64(1), object(7)\n",
      "memory usage: 583.9+ KB\n"
     ]
    }
   ],
   "source": [
    "### .info() to provide information on the data\n",
    "euk.info()"
   ]
  },
  {
   "cell_type": "code",
   "execution_count": 47,
   "metadata": {
    "id": "WImi4eN1RXrk"
   },
   "outputs": [],
   "source": [
    "### What to do with '-' values?\n",
    "## Change \"-\" into NAs\n",
    "\n",
    "euk = pd.read_csv(tsv_Filepath, sep='\\t', na_values = ['-'])"
   ]
  },
  {
   "cell_type": "markdown",
   "metadata": {
    "id": "IGUpoCSgSFNj"
   },
   "source": [
    "## Visualize the relationship between two variables\n",
    "\n",
    "Can you see the relationship between genome size and the number of genes?\n",
    "\n"
   ]
  },
  {
   "cell_type": "markdown",
   "metadata": {
    "id": "LLZulrBBSOn4"
   },
   "source": [
    "It is hard for us to see patterns by reading large tables of data. For example, look at the following table that contains the genome size and the number of genes for reptiles. Can you see the relationship between genome size and the number of genes?"
   ]
  },
  {
   "cell_type": "code",
   "execution_count": 55,
   "metadata": {
    "id": "mridMYkCSnc7"
   },
   "outputs": [
    {
     "data": {
      "text/html": [
       "<div>\n",
       "<style scoped>\n",
       "    .dataframe tbody tr th:only-of-type {\n",
       "        vertical-align: middle;\n",
       "    }\n",
       "\n",
       "    .dataframe tbody tr th {\n",
       "        vertical-align: top;\n",
       "    }\n",
       "\n",
       "    .dataframe thead th {\n",
       "        text-align: right;\n",
       "    }\n",
       "</style>\n",
       "<table border=\"1\" class=\"dataframe\">\n",
       "  <thead>\n",
       "    <tr style=\"text-align: right;\">\n",
       "      <th></th>\n",
       "      <th>Species</th>\n",
       "      <th>Kingdom</th>\n",
       "      <th>Class</th>\n",
       "      <th>Size (Mb)</th>\n",
       "      <th>GC%</th>\n",
       "      <th>Number of genes</th>\n",
       "      <th>Number of proteins</th>\n",
       "      <th>Publication year</th>\n",
       "      <th>Assembly status</th>\n",
       "    </tr>\n",
       "  </thead>\n",
       "  <tbody>\n",
       "    <tr>\n",
       "      <th>282</th>\n",
       "      <td>Anolis carolinensis</td>\n",
       "      <td>Animals</td>\n",
       "      <td>Reptiles</td>\n",
       "      <td>1799.14</td>\n",
       "      <td>40.8238</td>\n",
       "      <td>22092.0</td>\n",
       "      <td>34827.0</td>\n",
       "      <td>2007</td>\n",
       "      <td>Chromosome</td>\n",
       "    </tr>\n",
       "    <tr>\n",
       "      <th>543</th>\n",
       "      <td>Sphenodon punctatus</td>\n",
       "      <td>Animals</td>\n",
       "      <td>Reptiles</td>\n",
       "      <td>4272.21</td>\n",
       "      <td>NaN</td>\n",
       "      <td>NaN</td>\n",
       "      <td>NaN</td>\n",
       "      <td>2018</td>\n",
       "      <td>Scaffold</td>\n",
       "    </tr>\n",
       "    <tr>\n",
       "      <th>565</th>\n",
       "      <td>Pogona vitticeps</td>\n",
       "      <td>Animals</td>\n",
       "      <td>Reptiles</td>\n",
       "      <td>1716.68</td>\n",
       "      <td>42.1000</td>\n",
       "      <td>21445.0</td>\n",
       "      <td>38203.0</td>\n",
       "      <td>2015</td>\n",
       "      <td>Scaffold</td>\n",
       "    </tr>\n",
       "    <tr>\n",
       "      <th>589</th>\n",
       "      <td>Platysternon megacephalum</td>\n",
       "      <td>Animals</td>\n",
       "      <td>Reptiles</td>\n",
       "      <td>2319.09</td>\n",
       "      <td>43.9000</td>\n",
       "      <td>NaN</td>\n",
       "      <td>NaN</td>\n",
       "      <td>2018</td>\n",
       "      <td>Scaffold</td>\n",
       "    </tr>\n",
       "    <tr>\n",
       "      <th>612</th>\n",
       "      <td>Podarcis muralis</td>\n",
       "      <td>Animals</td>\n",
       "      <td>Reptiles</td>\n",
       "      <td>1511.00</td>\n",
       "      <td>44.2057</td>\n",
       "      <td>NaN</td>\n",
       "      <td>NaN</td>\n",
       "      <td>2019</td>\n",
       "      <td>Chromosome</td>\n",
       "    </tr>\n",
       "  </tbody>\n",
       "</table>\n",
       "</div>"
      ],
      "text/plain": [
       "                       Species  Kingdom     Class  Size (Mb)      GC%  \\\n",
       "282        Anolis carolinensis  Animals  Reptiles    1799.14  40.8238   \n",
       "543        Sphenodon punctatus  Animals  Reptiles    4272.21      NaN   \n",
       "565           Pogona vitticeps  Animals  Reptiles    1716.68  42.1000   \n",
       "589  Platysternon megacephalum  Animals  Reptiles    2319.09  43.9000   \n",
       "612           Podarcis muralis  Animals  Reptiles    1511.00  44.2057   \n",
       "\n",
       "     Number of genes  Number of proteins  Publication year Assembly status  \n",
       "282          22092.0             34827.0              2007      Chromosome  \n",
       "543              NaN                 NaN              2018        Scaffold  \n",
       "565          21445.0             38203.0              2015        Scaffold  \n",
       "589              NaN                 NaN              2018        Scaffold  \n",
       "612              NaN                 NaN              2019      Chromosome  "
      ]
     },
     "execution_count": 55,
     "metadata": {},
     "output_type": "execute_result"
    }
   ],
   "source": [
    "## Look only look at reptile data using class 'Reptiles'\n",
    "euk[euk['Class'] == 'Reptiles'].head()"
   ]
  },
  {
   "cell_type": "code",
   "execution_count": 101,
   "metadata": {
    "id": "WpqsWKdWjxxT"
   },
   "outputs": [
    {
     "data": {
      "text/html": [
       "<div>\n",
       "<style scoped>\n",
       "    .dataframe tbody tr th:only-of-type {\n",
       "        vertical-align: middle;\n",
       "    }\n",
       "\n",
       "    .dataframe tbody tr th {\n",
       "        vertical-align: top;\n",
       "    }\n",
       "\n",
       "    .dataframe thead th {\n",
       "        text-align: right;\n",
       "    }\n",
       "</style>\n",
       "<table border=\"1\" class=\"dataframe\">\n",
       "  <thead>\n",
       "    <tr style=\"text-align: right;\">\n",
       "      <th></th>\n",
       "      <th>Species</th>\n",
       "      <th>Kingdom</th>\n",
       "      <th>Class</th>\n",
       "      <th>Size (Mb)</th>\n",
       "      <th>GC%</th>\n",
       "      <th>Number of genes</th>\n",
       "      <th>Number of proteins</th>\n",
       "      <th>Publication year</th>\n",
       "      <th>Assembly status</th>\n",
       "    </tr>\n",
       "  </thead>\n",
       "  <tbody>\n",
       "    <tr>\n",
       "      <th>282</th>\n",
       "      <td>Anolis carolinensis</td>\n",
       "      <td>Animals</td>\n",
       "      <td>Reptiles</td>\n",
       "      <td>1799.14</td>\n",
       "      <td>40.8238</td>\n",
       "      <td>22092.0</td>\n",
       "      <td>34827.0</td>\n",
       "      <td>2007</td>\n",
       "      <td>Chromosome</td>\n",
       "    </tr>\n",
       "    <tr>\n",
       "      <th>565</th>\n",
       "      <td>Pogona vitticeps</td>\n",
       "      <td>Animals</td>\n",
       "      <td>Reptiles</td>\n",
       "      <td>1716.68</td>\n",
       "      <td>42.1000</td>\n",
       "      <td>21445.0</td>\n",
       "      <td>38203.0</td>\n",
       "      <td>2015</td>\n",
       "      <td>Scaffold</td>\n",
       "    </tr>\n",
       "    <tr>\n",
       "      <th>589</th>\n",
       "      <td>Platysternon megacephalum</td>\n",
       "      <td>Animals</td>\n",
       "      <td>Reptiles</td>\n",
       "      <td>2319.09</td>\n",
       "      <td>43.9000</td>\n",
       "      <td>NaN</td>\n",
       "      <td>NaN</td>\n",
       "      <td>2018</td>\n",
       "      <td>Scaffold</td>\n",
       "    </tr>\n",
       "    <tr>\n",
       "      <th>612</th>\n",
       "      <td>Podarcis muralis</td>\n",
       "      <td>Animals</td>\n",
       "      <td>Reptiles</td>\n",
       "      <td>1511.00</td>\n",
       "      <td>44.2057</td>\n",
       "      <td>NaN</td>\n",
       "      <td>NaN</td>\n",
       "      <td>2019</td>\n",
       "      <td>Chromosome</td>\n",
       "    </tr>\n",
       "    <tr>\n",
       "      <th>650</th>\n",
       "      <td>Cuora amboinensis</td>\n",
       "      <td>Animals</td>\n",
       "      <td>Reptiles</td>\n",
       "      <td>2214.83</td>\n",
       "      <td>43.9000</td>\n",
       "      <td>NaN</td>\n",
       "      <td>NaN</td>\n",
       "      <td>2019</td>\n",
       "      <td>Scaffold</td>\n",
       "    </tr>\n",
       "  </tbody>\n",
       "</table>\n",
       "</div>"
      ],
      "text/plain": [
       "                       Species  Kingdom     Class  Size (Mb)      GC%  \\\n",
       "282        Anolis carolinensis  Animals  Reptiles    1799.14  40.8238   \n",
       "565           Pogona vitticeps  Animals  Reptiles    1716.68  42.1000   \n",
       "589  Platysternon megacephalum  Animals  Reptiles    2319.09  43.9000   \n",
       "612           Podarcis muralis  Animals  Reptiles    1511.00  44.2057   \n",
       "650          Cuora amboinensis  Animals  Reptiles    2214.83  43.9000   \n",
       "\n",
       "     Number of genes  Number of proteins  Publication year Assembly status  \n",
       "282          22092.0             34827.0              2007      Chromosome  \n",
       "565          21445.0             38203.0              2015        Scaffold  \n",
       "589              NaN                 NaN              2018        Scaffold  \n",
       "612              NaN                 NaN              2019      Chromosome  \n",
       "650              NaN                 NaN              2019        Scaffold  "
      ]
     },
     "execution_count": 101,
     "metadata": {},
     "output_type": "execute_result"
    }
   ],
   "source": [
    "## Pick out data for just Reptiles with genome size < 4000\n",
    "\n",
    "rep_data = euk[(euk['Class'] == 'Reptiles') & (euk[\"Size (Mb)\"] < 4000)]\n",
    "rep_data.head()"
   ]
  },
  {
   "cell_type": "markdown",
   "metadata": {
    "id": "6sAgJ9x7kSGA"
   },
   "source": [
    "### Use `relplot` to look at relationships\n",
    "We will use the `relplot` function, and the names of the columns that we want on the `X` and `Y` axes to look at the relationship between genome size and number of genes in Reptiles"
   ]
  },
  {
   "cell_type": "code",
   "execution_count": 103,
   "metadata": {
    "id": "y3KxiFjpT0My"
   },
   "outputs": [
    {
     "data": {
      "image/png": "[encoded data removed]",
      "text/plain": [
       "<Figure size 500x500 with 1 Axes>"
      ]
     },
     "metadata": {},
     "output_type": "display_data"
    }
   ],
   "source": [
    "### Relationship plot between genome size and number of genes in Retiles\n",
    "sns.relplot(data = rep_data, x = \"Size (Mb)\", y = \"Number of genes\")\n",
    "plt.show()"
   ]
  },
  {
   "cell_type": "markdown",
   "metadata": {
    "id": "MquzHxvyVak0"
   },
   "source": [
    "### Can you create a new column to look at gene density?\n",
    "gene density = Number of genes / Size (Mb)"
   ]
  },
  {
   "cell_type": "code",
   "execution_count": 123,
   "metadata": {
    "id": "izWushvwlTnq"
   },
   "outputs": [
    {
     "data": {
      "text/html": [
       "<div>\n",
       "<style scoped>\n",
       "    .dataframe tbody tr th:only-of-type {\n",
       "        vertical-align: middle;\n",
       "    }\n",
       "\n",
       "    .dataframe tbody tr th {\n",
       "        vertical-align: top;\n",
       "    }\n",
       "\n",
       "    .dataframe thead th {\n",
       "        text-align: right;\n",
       "    }\n",
       "</style>\n",
       "<table border=\"1\" class=\"dataframe\">\n",
       "  <thead>\n",
       "    <tr style=\"text-align: right;\">\n",
       "      <th></th>\n",
       "      <th>Species</th>\n",
       "      <th>Kingdom</th>\n",
       "      <th>Class</th>\n",
       "      <th>Size (Mb)</th>\n",
       "      <th>GC%</th>\n",
       "      <th>Number of genes</th>\n",
       "      <th>Number of proteins</th>\n",
       "      <th>Publication year</th>\n",
       "      <th>Assembly status</th>\n",
       "      <th>Gene Density</th>\n",
       "    </tr>\n",
       "  </thead>\n",
       "  <tbody>\n",
       "    <tr>\n",
       "      <th>282</th>\n",
       "      <td>Anolis carolinensis</td>\n",
       "      <td>Animals</td>\n",
       "      <td>Reptiles</td>\n",
       "      <td>1799.14</td>\n",
       "      <td>40.8238</td>\n",
       "      <td>22092.0</td>\n",
       "      <td>34827.0</td>\n",
       "      <td>2007</td>\n",
       "      <td>Chromosome</td>\n",
       "      <td>12.279200</td>\n",
       "    </tr>\n",
       "    <tr>\n",
       "      <th>565</th>\n",
       "      <td>Pogona vitticeps</td>\n",
       "      <td>Animals</td>\n",
       "      <td>Reptiles</td>\n",
       "      <td>1716.68</td>\n",
       "      <td>42.1000</td>\n",
       "      <td>21445.0</td>\n",
       "      <td>38203.0</td>\n",
       "      <td>2015</td>\n",
       "      <td>Scaffold</td>\n",
       "      <td>12.492136</td>\n",
       "    </tr>\n",
       "    <tr>\n",
       "      <th>589</th>\n",
       "      <td>Platysternon megacephalum</td>\n",
       "      <td>Animals</td>\n",
       "      <td>Reptiles</td>\n",
       "      <td>2319.09</td>\n",
       "      <td>43.9000</td>\n",
       "      <td>NaN</td>\n",
       "      <td>NaN</td>\n",
       "      <td>2018</td>\n",
       "      <td>Scaffold</td>\n",
       "      <td>NaN</td>\n",
       "    </tr>\n",
       "    <tr>\n",
       "      <th>612</th>\n",
       "      <td>Podarcis muralis</td>\n",
       "      <td>Animals</td>\n",
       "      <td>Reptiles</td>\n",
       "      <td>1511.00</td>\n",
       "      <td>44.2057</td>\n",
       "      <td>NaN</td>\n",
       "      <td>NaN</td>\n",
       "      <td>2019</td>\n",
       "      <td>Chromosome</td>\n",
       "      <td>NaN</td>\n",
       "    </tr>\n",
       "    <tr>\n",
       "      <th>650</th>\n",
       "      <td>Cuora amboinensis</td>\n",
       "      <td>Animals</td>\n",
       "      <td>Reptiles</td>\n",
       "      <td>2214.83</td>\n",
       "      <td>43.9000</td>\n",
       "      <td>NaN</td>\n",
       "      <td>NaN</td>\n",
       "      <td>2019</td>\n",
       "      <td>Scaffold</td>\n",
       "      <td>NaN</td>\n",
       "    </tr>\n",
       "  </tbody>\n",
       "</table>\n",
       "</div>"
      ],
      "text/plain": [
       "                       Species  Kingdom     Class  Size (Mb)      GC%  \\\n",
       "282        Anolis carolinensis  Animals  Reptiles    1799.14  40.8238   \n",
       "565           Pogona vitticeps  Animals  Reptiles    1716.68  42.1000   \n",
       "589  Platysternon megacephalum  Animals  Reptiles    2319.09  43.9000   \n",
       "612           Podarcis muralis  Animals  Reptiles    1511.00  44.2057   \n",
       "650          Cuora amboinensis  Animals  Reptiles    2214.83  43.9000   \n",
       "\n",
       "     Number of genes  Number of proteins  Publication year Assembly status  \\\n",
       "282          22092.0             34827.0              2007      Chromosome   \n",
       "565          21445.0             38203.0              2015        Scaffold   \n",
       "589              NaN                 NaN              2018        Scaffold   \n",
       "612              NaN                 NaN              2019      Chromosome   \n",
       "650              NaN                 NaN              2019        Scaffold   \n",
       "\n",
       "     Gene Density  \n",
       "282     12.279200  \n",
       "565     12.492136  \n",
       "589           NaN  \n",
       "612           NaN  \n",
       "650           NaN  "
      ]
     },
     "execution_count": 123,
     "metadata": {},
     "output_type": "execute_result"
    }
   ],
   "source": [
    "### Your Code\n",
    "# gene density = Number of genes / Size (Mb)\n",
    "# create the new column\n",
    "rep_data.loc[:,'Gene Density'] = rep_data['Number of genes'] / rep_data['Size (Mb)']\n",
    "rep_data.head()"
   ]
  },
  {
   "cell_type": "code",
   "execution_count": 131,
   "metadata": {
    "id": "1qJhlnOclbUz"
   },
   "outputs": [
    {
     "data": {
      "image/png": "[encoded data removed]",
      "text/plain": [
       "<Figure size 500x500 with 1 Axes>"
      ]
     },
     "metadata": {},
     "output_type": "display_data"
    }
   ],
   "source": [
    "### Create the plot that represents the relation between Size (Mb) and density\n",
    "# Is it what you expected?\n",
    "sns.relplot(data = rep_data, x = \"Size (Mb)\", y = \"Gene Density\")\n",
    "plt.show()\n",
    "\n",
    "# yes, it makes sense mathematically since the column is obtained by dividing number of genes by size\n",
    "# from the previous plot, we can see that number of genes stays fairly constant as size increases\n",
    "# so if we divide that number by an increasingly large size, we should obtain a negative relationship that we can see"
   ]
  },
  {
   "cell_type": "markdown",
   "metadata": {
    "id": "jI7OyOVrl7AG"
   },
   "source": [
    "## Seaborn\n",
    "These are other `kind` plots that we did not try in lectures. Look up seaborn documentation and try to create these new plots.\n",
    "\n",
    "1.   Create a violin plot for genome size distribution against Class Land Plantssn.\n",
    "2.   Create a scatter plot showing the relationship between Kingdom and Publication year\n",
    "3. Create a bar plot for GC% for each Kingdom"
   ]
  },
  {
   "cell_type": "code",
   "execution_count": 143,
   "metadata": {
    "id": "YdZbDsSMnQMn"
   },
   "outputs": [
    {
     "data": {
      "image/png": "[encoded data removed]",
      "text/plain": [
       "<Figure size 640x480 with 1 Axes>"
      ]
     },
     "metadata": {},
     "output_type": "display_data"
    }
   ],
   "source": [
    "### Your code - Create a violin plot for genome size distribution against Class Land Plants.\n",
    "\n",
    "land_plants = euk[euk['Class'] == \"Land Plants\"]\n",
    "sns.violinplot(data = land_plants, x = \"Size (Mb)\", y = \"Class\")\n",
    "plt.show()"
   ]
  },
  {
   "cell_type": "code",
   "execution_count": 151,
   "metadata": {
    "id": "Tc1sRZl6nVug"
   },
   "outputs": [
    {
     "data": {
      "image/png": "[encoded data removed]",
      "text/plain": [
       "<Figure size 640x480 with 1 Axes>"
      ]
     },
     "metadata": {},
     "output_type": "display_data"
    }
   ],
   "source": [
    "### Your code - Create a scatter plot showing the relationship between Kingdom and Publication year\n",
    "\n",
    "sns.scatterplot(data = euk, x = \"Publication year\", y = \"Kingdom\")\n",
    "plt.show()"
   ]
  },
  {
   "cell_type": "code",
   "execution_count": 155,
   "metadata": {
    "id": "GBtDWnaEnZfY"
   },
   "outputs": [
    {
     "data": {
      "image/png": "[encoded data removed]",
      "text/plain": [
       "<Figure size 640x480 with 1 Axes>"
      ]
     },
     "metadata": {},
     "output_type": "display_data"
    }
   ],
   "source": [
    "### Your code - Create a bar plot for GC% for each Kingdom\n",
    "\n",
    "sns.barplot(data = euk, x = \"Kingdom\", y = \"GC%\")\n",
    "plt.show()"
   ]
  },
  {
   "cell_type": "code",
   "execution_count": null,
   "metadata": {},
   "outputs": [],
   "source": []
  }
 ],
 "metadata": {
  "colab": {
   "provenance": []
  },
  "hide_input": false,
  "kernelspec": {
   "display_name": "Python [conda env:base] *",
   "language": "python",
   "name": "conda-base-py"
  },
  "language_info": {
   "codemirror_mode": {
    "name": "ipython",
    "version": 3
   },
   "file_extension": ".py",
   "mimetype": "text/x-python",
   "name": "python",
   "nbconvert_exporter": "python",
   "pygments_lexer": "ipython3",
   "version": "3.12.7"
  },
  "toc": {
   "base_numbering": 1,
   "nav_menu": {},
   "number_sections": true,
   "sideBar": true,
   "skip_h1_title": false,
   "title_cell": "Table of Contents",
   "title_sidebar": "Contents",
   "toc_cell": false,
   "toc_position": {},
   "toc_section_display": true,
   "toc_window_display": false
  }
 },
 "nbformat": 4,
 "nbformat_minor": 4
}
